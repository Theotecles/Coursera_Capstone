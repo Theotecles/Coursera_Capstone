{
    "cells": [
        {
            "cell_type": "markdown",
            "metadata": {
                "collapsed": true
            },
            "source": "# Introduction"
        },
        {
            "cell_type": "markdown",
            "metadata": {},
            "source": "For my business problem I will be examining which neighborhood in North York, ON, a borough of Toronto, would be best to open a restaurant in. I will make this on two criteria. One, judging by the other restaurants in the area and two by judging how many non-restaurant venues in the area that can bring foot traffic to the area,"
        },
        {
            "cell_type": "markdown",
            "metadata": {},
            "source": "# Data"
        },
        {
            "cell_type": "code",
            "execution_count": null,
            "metadata": {},
            "outputs": [],
            "source": "I will be using the Toronto location data and the Foursquare data in order to complete the analysis.\n\nThe Toronto location data has all the boroughs, postal codes and neighborhoods for the greater toronto area"
        }
    ],
    "metadata": {
        "kernelspec": {
            "display_name": "Python 3.6",
            "language": "python",
            "name": "python3"
        },
        "language_info": {
            "codemirror_mode": {
                "name": "ipython",
                "version": 3
            },
            "file_extension": ".py",
            "mimetype": "text/x-python",
            "name": "python",
            "nbconvert_exporter": "python",
            "pygments_lexer": "ipython3",
            "version": "3.6.8"
        }
    },
    "nbformat": 4,
    "nbformat_minor": 1
}